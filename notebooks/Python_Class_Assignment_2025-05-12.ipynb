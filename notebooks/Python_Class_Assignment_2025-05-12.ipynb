{
 "cells": [
  {
   "cell_type": "markdown",
   "id": "620d5f07",
   "metadata": {},
   "source": [
    "# 📘 Python Class Assignment — 12/5/2025"
   ]
  },
  {
   "cell_type": "markdown",
   "id": "6f6f57de",
   "metadata": {},
   "source": [
    "### ✅ 1. Research on Different Ways to Load a Dataset"
   ]
  },
  {
   "cell_type": "code",
   "execution_count": 2,
   "id": "257a0070",
   "metadata": {},
   "outputs": [
    {
     "data": {
      "text/html": [
       "<div>\n",
       "<style scoped>\n",
       "    .dataframe tbody tr th:only-of-type {\n",
       "        vertical-align: middle;\n",
       "    }\n",
       "\n",
       "    .dataframe tbody tr th {\n",
       "        vertical-align: top;\n",
       "    }\n",
       "\n",
       "    .dataframe thead th {\n",
       "        text-align: right;\n",
       "    }\n",
       "</style>\n",
       "<table border=\"1\" class=\"dataframe\">\n",
       "  <thead>\n",
       "    <tr style=\"text-align: right;\">\n",
       "      <th></th>\n",
       "      <th>id</th>\n",
       "      <th>name</th>\n",
       "      <th>age</th>\n",
       "      <th>gender</th>\n",
       "      <th>math_score</th>\n",
       "      <th>english_score</th>\n",
       "      <th>science_score</th>\n",
       "    </tr>\n",
       "  </thead>\n",
       "  <tbody>\n",
       "    <tr>\n",
       "      <th>0</th>\n",
       "      <td>1</td>\n",
       "      <td>Alice</td>\n",
       "      <td>17</td>\n",
       "      <td>F</td>\n",
       "      <td>85</td>\n",
       "      <td>78</td>\n",
       "      <td>92</td>\n",
       "    </tr>\n",
       "    <tr>\n",
       "      <th>1</th>\n",
       "      <td>2</td>\n",
       "      <td>Bob</td>\n",
       "      <td>16</td>\n",
       "      <td>M</td>\n",
       "      <td>79</td>\n",
       "      <td>74</td>\n",
       "      <td>88</td>\n",
       "    </tr>\n",
       "    <tr>\n",
       "      <th>2</th>\n",
       "      <td>3</td>\n",
       "      <td>Charlie</td>\n",
       "      <td>17</td>\n",
       "      <td>M</td>\n",
       "      <td>93</td>\n",
       "      <td>90</td>\n",
       "      <td>85</td>\n",
       "    </tr>\n",
       "    <tr>\n",
       "      <th>3</th>\n",
       "      <td>4</td>\n",
       "      <td>Diana</td>\n",
       "      <td>16</td>\n",
       "      <td>F</td>\n",
       "      <td>76</td>\n",
       "      <td>85</td>\n",
       "      <td>80</td>\n",
       "    </tr>\n",
       "    <tr>\n",
       "      <th>4</th>\n",
       "      <td>5</td>\n",
       "      <td>Edward</td>\n",
       "      <td>17</td>\n",
       "      <td>M</td>\n",
       "      <td>89</td>\n",
       "      <td>77</td>\n",
       "      <td>90</td>\n",
       "    </tr>\n",
       "  </tbody>\n",
       "</table>\n",
       "</div>"
      ],
      "text/plain": [
       "   id     name  age gender  math_score  english_score  science_score\n",
       "0   1    Alice   17      F          85             78             92\n",
       "1   2      Bob   16      M          79             74             88\n",
       "2   3  Charlie   17      M          93             90             85\n",
       "3   4    Diana   16      F          76             85             80\n",
       "4   5   Edward   17      M          89             77             90"
      ]
     },
     "execution_count": 2,
     "metadata": {},
     "output_type": "execute_result"
    }
   ],
   "source": [
    "import pandas as pd\n",
    "\n",
    "# Load the CSV file from the 'data' folder\n",
    "df = pd.read_csv('../data/sample.csv')\n",
    "\n",
    "# Display the first 5 rows of the dataset\n",
    "df.head()\n",
    "\n",
    "# Loading data from an Excel file:\n",
    "# df_excel = pd.read_excel('data.xlsx')\n",
    "\n",
    "# Loading data from a JSON file:\n",
    "# df_json = pd.read_json('data.json')\n"
   ]
  },
  {
   "cell_type": "code",
   "execution_count": 9,
   "id": "8d1ab38c",
   "metadata": {},
   "outputs": [
    {
     "name": "stdout",
     "output_type": "stream",
     "text": [
      "[[nan 85. 78.]\n",
      " [nan 79. 74.]\n",
      " [nan 93. 90.]\n",
      " [nan 76. 85.]\n",
      " [nan 89. 77.]\n",
      " [nan 92. 88.]]\n"
     ]
    }
   ],
   "source": [
    "import numpy as np\n",
    "\n",
    "# Load only numeric columns: usecols selects math_score, english_score, science_score\n",
    "data_np = np.genfromtxt('../data/sample.csv', delimiter=',', skip_header=1, usecols=(3, 4, 5))\n",
    "\n",
    "print(data_np)\n"
   ]
  },
  {
   "cell_type": "code",
   "execution_count": null,
   "id": "dc0368d3",
   "metadata": {},
   "outputs": [],
   "source": [
    "# Using open() for plain text\n",
    "# with open('data.txt', 'r') as file:\n",
    "#     lines = file.readlines()\n"
   ]
  },
  {
   "cell_type": "markdown",
   "id": "2848e8b5",
   "metadata": {},
   "source": [
    "### ✅ 2. Create Dictionaries Containing Different Data Types"
   ]
  },
  {
   "cell_type": "code",
   "execution_count": 5,
   "id": "2abd2aa6",
   "metadata": {},
   "outputs": [
    {
     "name": "stdout",
     "output_type": "stream",
     "text": [
      "{'name': 'Alice', 'age': 25, 'grades': [85, 90, 92], 'courses': ('Math', 'Science'), 'address': {'city': 'Lagos', 'zip': 100001}}\n"
     ]
    }
   ],
   "source": [
    "my_data = {\n",
    "    \"name\": \"Alice\",                            # String\n",
    "    \"age\": 25,                                  # Integer\n",
    "    \"grades\": [85, 90, 92],                     # List\n",
    "    \"courses\": (\"Math\", \"Science\"),             # Tuple\n",
    "    \"address\": {\"city\": \"Lagos\", \"zip\": 100001} # Dictionary\n",
    "}\n",
    "\n",
    "print(my_data)\n"
   ]
  },
  {
   "cell_type": "markdown",
   "id": "d9de8503",
   "metadata": {},
   "source": [
    "### ✅ 3. Casting in Python"
   ]
  },
  {
   "cell_type": "code",
   "execution_count": 6,
   "id": "3154924b",
   "metadata": {},
   "outputs": [
    {
     "name": "stdout",
     "output_type": "stream",
     "text": [
      "10 10.0 10.0 (1, 2, 3) [1, 2, 3]\n"
     ]
    }
   ],
   "source": [
    "# String to Integer\n",
    "num_str = \"10\"\n",
    "num_int = int(num_str)\n",
    "\n",
    "# Integer to Float\n",
    "num_float = float(num_int)\n",
    "\n",
    "# Float to String\n",
    "num_str2 = str(num_float)\n",
    "\n",
    "# List to Tuple\n",
    "my_list = [1, 2, 3]\n",
    "my_tuple = tuple(my_list)\n",
    "\n",
    "# Tuple to List\n",
    "my_new_list = list(my_tuple)\n",
    "\n",
    "print(num_int, num_float, num_str2, my_tuple, my_new_list)\n"
   ]
  },
  {
   "cell_type": "markdown",
   "id": "6eeddf1b",
   "metadata": {},
   "source": [
    "### ✅ 4. Power Operator and Order of Operations"
   ]
  },
  {
   "cell_type": "code",
   "execution_count": 7,
   "id": "51511087",
   "metadata": {},
   "outputs": [
    {
     "name": "stdout",
     "output_type": "stream",
     "text": [
      "2 ** 3 = 8\n"
     ]
    }
   ],
   "source": [
    "# Power operator (**)\n",
    "result = 2 ** 3  # 2 raised to the power 3 = 8\n",
    "print(\"2 ** 3 =\", result)\n"
   ]
  },
  {
   "cell_type": "code",
   "execution_count": 8,
   "id": "f0ed6742",
   "metadata": {},
   "outputs": [
    {
     "name": "stdout",
     "output_type": "stream",
     "text": [
      "2 + 3 * 4 = 14\n",
      "(2 + 3) * 4 = 20\n"
     ]
    }
   ],
   "source": [
    "# Order of operations (PEMDAS)\n",
    "value = 2 + 3 * 4  # Multiplication first: 2 + 12 = 14\n",
    "value2 = (2 + 3) * 4  # Parentheses first: 5 * 4 = 20\n",
    "\n",
    "print(\"2 + 3 * 4 =\", value)\n",
    "print(\"(2 + 3) * 4 =\", value2)\n"
   ]
  },
  {
   "cell_type": "markdown",
   "id": "e22da757",
   "metadata": {},
   "source": []
  },
  {
   "cell_type": "markdown",
   "id": "e54dcba1",
   "metadata": {},
   "source": [
    "\n"
   ]
  }
 ],
 "metadata": {
  "kernelspec": {
   "display_name": "venv",
   "language": "python",
   "name": "python3"
  },
  "language_info": {
   "codemirror_mode": {
    "name": "ipython",
    "version": 3
   },
   "file_extension": ".py",
   "mimetype": "text/x-python",
   "name": "python",
   "nbconvert_exporter": "python",
   "pygments_lexer": "ipython3",
   "version": "3.13.3"
  }
 },
 "nbformat": 4,
 "nbformat_minor": 5
}
